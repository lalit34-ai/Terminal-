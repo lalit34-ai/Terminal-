{
 "cells": [
  {
   "cell_type": "code",
   "execution_count": 1,
   "metadata": {},
   "outputs": [],
   "source": [
    "import os"
   ]
  },
  {
   "cell_type": "code",
   "execution_count": 4,
   "metadata": {},
   "outputs": [],
   "source": [
    "import time\n",
    "import socket\n",
    "import subprocess\n",
    "import platform\n",
    "import shutil"
   ]
  },
  {
   "cell_type": "code",
   "execution_count": 6,
   "metadata": {},
   "outputs": [
    {
     "name": "stdout",
     "output_type": "stream",
     "text": [
      "ANN Terminal\n"
     ]
    }
   ],
   "source": [
    "path='E:/'\n",
    "host_name=socket.gethostname()\n",
    "host_ip=socket.gethostbyname(host_name)\n",
    "print(\"ANN Terminal\")\n",
    "while True:\n",
    "    Ann=\">>\""
   ]
  },
  {
   "cell_type": "code",
   "execution_count": 30,
   "metadata": {},
   "outputs": [],
   "source": [
    "if Ann=='mkdir':\n",
    "    host=input('Enter new directory name')\n",
    "    os.mkdir(path,mode=0o777,dir_fd=None)\n",
    "    print('folder created')\n",
    "elif Ann=='rm':\n",
    "    host=input(\"Enter the file name\")\n",
    "    #if os.path.isfile(host):\n",
    "    os.remove(host)\n",
    "    print('File removed')\n",
    "elif Ann=='f':\n",
    "    mydir=input(\"Enter Folder to be deleted\")\n",
    "    shutil.rmtree(mydir)\n",
    "    print('folder deleted .')\n",
    "elif Ann=='date':\n",
    "    print(\"The local Date is :\"+time.strftime(\"%d%m%Y\"))\n",
    "elif Ann == 'cat':\n",
    "        dir_list=os.listdir(path)\n",
    "        print(\"Files and directories are \",path,\" :\")\n",
    "        print(dir_list)\n",
    "\n",
    "elif Ann=='echo':\n",
    "    echo=input(\"What is the echo you want?\")\n",
    "    print(\"The echo is \",echo)"
   ]
  },
  {
   "cell_type": "code",
   "execution_count": null,
   "metadata": {},
   "outputs": [],
   "source": []
  },
  {
   "cell_type": "code",
   "execution_count": null,
   "metadata": {},
   "outputs": [],
   "source": []
  }
 ],
 "metadata": {
  "kernelspec": {
   "display_name": "Python 3",
   "language": "python",
   "name": "python3"
  },
  "language_info": {
   "codemirror_mode": {
    "name": "ipython",
    "version": 3
   },
   "file_extension": ".py",
   "mimetype": "text/x-python",
   "name": "python",
   "nbconvert_exporter": "python",
   "pygments_lexer": "ipython3",
   "version": "3.7.6"
  }
 },
 "nbformat": 4,
 "nbformat_minor": 4
}
